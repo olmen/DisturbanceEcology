{
 "cells": [
  {
   "cell_type": "code",
   "execution_count": null,
   "metadata": {},
   "outputs": [],
   "source": [
    "#============================================\n",
    "# Created: 10/06/2020\n",
    "# Author: Carlota Segura-Garcia\n",
    "# Email: carlota.seguragarcia@env-res.ox.ac.uk\n",
    "#\n",
    "#\n",
    "# This script works. Problem is that MaBIomas data for even just one year is too large and GEE cannot usually process it,\n",
    "# so I had to change the method of downloading MapBiomas data. But this script can easily be adapted to downloading\n",
    "# by band any tif file stored in the GEE cloud.\n",
    "#\n",
    "# This script imports a MapBiomas collection as a .tif file of anual categorical land-use maps with one band per year, \n",
    "# it downloads one band (year) at a time and saves it to a .tif file with a unique band.\n",
    "#\n",
    "#============================================="
   ]
  },
  {
   "cell_type": "code",
   "execution_count": null,
   "metadata": {
    "scrolled": true
   },
   "outputs": [],
   "source": [
    "# Libraries\n",
    "import geemap\n",
    "import ee\n",
    "\n",
    "# Initializing Earth Engine (must be authenticated alread, ee.Authenticate())\n",
    "ee.Initialize()"
   ]
  },
  {
   "cell_type": "code",
   "execution_count": null,
   "metadata": {},
   "outputs": [],
   "source": [
    "# Now we import the data as an image (not yet downloaded)\n",
    "data = ee.Image('projects/mapbiomas-workspace/public/collection4_1/mapbiomas_collection41_integration_v1')"
   ]
  },
  {
   "cell_type": "code",
   "execution_count": null,
   "metadata": {},
   "outputs": [],
   "source": [
    "# Checking bands\n",
    "data.bandNames().getInfo()"
   ]
  },
  {
   "cell_type": "code",
   "execution_count": null,
   "metadata": {},
   "outputs": [],
   "source": [
    "# Importing polygon shapefile to crop the /tif image to\n",
    "cerrado = ee.FeatureCollection('users/carlotasegurag/MAPBIOMAS/cerrado_1-250000')"
   ]
  },
  {
   "cell_type": "code",
   "execution_count": null,
   "metadata": {},
   "outputs": [],
   "source": [
    "# Checking CRS - in GEE it is seldom the case when we have to adjust the CRS of the objects to be the same (usually GEE\n",
    "# does the reprojection automatically)\n",
    "print('Imported data CRS: {}'.format(data.projection().getInfo()))\n",
    "#print('Cerrado shapefile CRS: {}'.format(cerrado.projection().getInfo()))"
   ]
  },
  {
   "cell_type": "code",
   "execution_count": null,
   "metadata": {},
   "outputs": [],
   "source": [
    "# So we can just clip the image with the cerrado shape\n",
    "data = data.clip(cerrado)"
   ]
  },
  {
   "cell_type": "code",
   "execution_count": null,
   "metadata": {},
   "outputs": [],
   "source": [
    "# Downloading one band at a time and saving it as a tif file\n",
    "\n",
    "# Filepath\n",
    "filename = '../data/MAPBIOMAS_cerrado_{}.tif'\n",
    "# Looping over one band at a time\n",
    "for band in data.bandNames().getInfo():\n",
    "    print('Starting download of {}'.format(band))\n",
    "    # Selecting the band to save\n",
    "    toSave = data.select(band)\n",
    "    # Downloading and saving\n",
    "    geemap.ee_export_image(toSave, filename=filename.format(band), scale = 30, region=cerrado.geometry(), file_per_band=False)\n",
    "    print('Finished downloading {}'.format(band))\n"
   ]
  }
 ],
 "metadata": {
  "kernelspec": {
   "display_name": "geopy2019",
   "language": "python",
   "name": "geopy2019"
  },
  "language_info": {
   "codemirror_mode": {
    "name": "ipython",
    "version": 3
   },
   "file_extension": ".py",
   "mimetype": "text/x-python",
   "name": "python",
   "nbconvert_exporter": "python",
   "pygments_lexer": "ipython3",
   "version": "3.7.8"
  }
 },
 "nbformat": 4,
 "nbformat_minor": 4
}
